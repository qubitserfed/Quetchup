{
 "cells": [
  {
   "cell_type": "code",
   "execution_count": null,
   "id": "25d2d4b7",
   "metadata": {},
   "outputs": [],
   "source": [
    "from quetchup import *"
   ]
  },
  {
   "cell_type": "code",
   "execution_count": 2,
   "id": "c1c0388f",
   "metadata": {},
   "outputs": [],
   "source": [
    "def put(s):\n",
    "    display(to_latex(s))"
   ]
  },
  {
   "cell_type": "code",
   "execution_count": 3,
   "id": "0f4b7ea8",
   "metadata": {},
   "outputs": [
    {
     "data": {
      "text/latex": [
       "$\\displaystyle |00\\rangle+|11\\rangle$"
      ],
      "text/plain": [
       "<IPython.core.display.Math object>"
      ]
     },
     "metadata": {},
     "output_type": "display_data"
    }
   ],
   "source": [
    "idmap = choi_state(id_map(1))\n",
    "put(idmap)"
   ]
  },
  {
   "cell_type": "code",
   "execution_count": 4,
   "id": "f512f41d",
   "metadata": {},
   "outputs": [
    {
     "data": {
      "text/latex": [
       "$\\displaystyle |000\\rangle+|011\\rangle$"
      ],
      "text/plain": [
       "<IPython.core.display.Math object>"
      ]
     },
     "metadata": {},
     "output_type": "display_data"
    }
   ],
   "source": [
    "idmap.zero_prep(0)\n",
    "put(idmap)"
   ]
  },
  {
   "cell_type": "code",
   "execution_count": 5,
   "id": "3175ede9",
   "metadata": {},
   "outputs": [
    {
     "data": {
      "text/latex": [
       "$\\displaystyle |000\\rangle+|011\\rangle$"
      ],
      "text/plain": [
       "<IPython.core.display.Math object>"
      ]
     },
     "metadata": {},
     "output_type": "display_data"
    },
    {
     "data": {
      "text/latex": [
       "$\\displaystyle |000\\rangle+|011\\rangle$"
      ],
      "text/plain": [
       "<IPython.core.display.Math object>"
      ]
     },
     "metadata": {},
     "output_type": "display_data"
    },
    {
     "data": {
      "text/latex": [
       "$\\displaystyle \\frac{1}{\\sqrt{2}}\\left(|000\\rangle+|100\\rangle+|011\\rangle+|111\\rangle\\right)$"
      ],
      "text/plain": [
       "<IPython.core.display.Math object>"
      ]
     },
     "metadata": {},
     "output_type": "display_data"
    }
   ],
   "source": [
    "put(idmap)\n",
    "apply_cx(idmap, 0, 1)\n",
    "put(idmap)\n",
    "apply_h(idmap, 0)\n",
    "put(idmap)"
   ]
  },
  {
   "cell_type": "code",
   "execution_count": 6,
   "id": "20d95566",
   "metadata": {},
   "outputs": [
    {
     "data": {
      "text/latex": [
       "$\\displaystyle \\frac{1}{\\sqrt{2}}\\left(|00\\rangle+|11\\rangle\\right)$"
      ],
      "text/plain": [
       "<IPython.core.display.Math object>"
      ]
     },
     "metadata": {},
     "output_type": "display_data"
    },
    {
     "data": {
      "text/latex": [
       "$\\displaystyle \\frac{1}{\\sqrt{2}}\\left(|0\\rangle\\right)$"
      ],
      "text/plain": [
       "<IPython.core.display.Math object>"
      ]
     },
     "metadata": {},
     "output_type": "display_data"
    }
   ],
   "source": [
    "idmap.zero_postselect(0)\n",
    "put(idmap)\n",
    "idmap.zero_postselect(0)\n",
    "put(idmap)"
   ]
  }
 ],
 "metadata": {
  "kernelspec": {
   "display_name": ".venv",
   "language": "python",
   "name": "python3"
  },
  "language_info": {
   "codemirror_mode": {
    "name": "ipython",
    "version": 3
   },
   "file_extension": ".py",
   "mimetype": "text/x-python",
   "name": "python",
   "nbconvert_exporter": "python",
   "pygments_lexer": "ipython3",
   "version": "3.13.3"
  }
 },
 "nbformat": 4,
 "nbformat_minor": 5
}
