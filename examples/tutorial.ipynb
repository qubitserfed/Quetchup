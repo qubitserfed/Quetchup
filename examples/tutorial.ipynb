{
 "cells": [
  {
   "cell_type": "code",
   "execution_count": null,
   "id": "dd86e3b5",
   "metadata": {},
   "outputs": [
    {
     "ename": "ModuleNotFoundError",
     "evalue": "No module named 'quetchup'",
     "output_type": "error",
     "traceback": [
      "\u001b[31m---------------------------------------------------------------------------\u001b[39m",
      "\u001b[31mModuleNotFoundError\u001b[39m                       Traceback (most recent call last)",
      "\u001b[36mCell\u001b[39m\u001b[36m \u001b[39m\u001b[32mIn[1]\u001b[39m\u001b[32m, line 1\u001b[39m\n\u001b[32m----> \u001b[39m\u001b[32m1\u001b[39m \u001b[38;5;28;01mimport\u001b[39;00m\u001b[38;5;250m \u001b[39m\u001b[34;01mquetchup\u001b[39;00m\u001b[38;5;250m \u001b[39m\u001b[38;5;28;01mas\u001b[39;00m\u001b[38;5;250m \u001b[39m\u001b[34;01mQ\u001b[39;00m\n",
      "\u001b[31mModuleNotFoundError\u001b[39m: No module named 'quetchup'"
     ]
    }
   ],
   "source": [
    "import quetchup as Q"
   ]
  },
  {
   "cell_type": "markdown",
   "id": "c80630d3",
   "metadata": {},
   "source": [
    "## Working with States\n",
    "\n",
    "Qubos defines two main classes: `State` and `Map`. We'll start by looking at the `State` class and what it can do. Let's first define a `State` object consisting of 3 qubits, all in the ground state (i.e. the state $|000\\rangle$)."
   ]
  },
  {
   "cell_type": "code",
   "execution_count": null,
   "id": "d88fdf06",
   "metadata": {},
   "outputs": [
    {
     "data": {
      "text/plain": [
       "<qubos.Extension.State at 0x107c13930>"
      ]
     },
     "execution_count": 2,
     "metadata": {},
     "output_type": "execute_result"
    }
   ],
   "source": [
    "my_qubits = Q.State(3)\n",
    "my_qubits"
   ]
  },
  {
   "cell_type": "markdown",
   "id": "a6ad8cf1",
   "metadata": {},
   "source": [
    "If you want to visualize the state, you can use the `.to_latex()` function:"
   ]
  },
  {
   "cell_type": "code",
   "execution_count": null,
   "id": "de227653",
   "metadata": {},
   "outputs": [
    {
     "data": {
      "text/latex": [
       "$\\displaystyle |000\\rangle$"
      ],
      "text/plain": [
       "<IPython.core.display.Math object>"
      ]
     },
     "execution_count": 3,
     "metadata": {},
     "output_type": "execute_result"
    }
   ],
   "source": [
    "Q.to_latex(my_qubits)"
   ]
  },
  {
   "cell_type": "markdown",
   "id": "9a3a9b09",
   "metadata": {},
   "source": [
    "If you forget how many qubits are in the state, you can use the `.n()` method:"
   ]
  },
  {
   "cell_type": "code",
   "execution_count": null,
   "id": "ab313db5",
   "metadata": {},
   "outputs": [
    {
     "data": {
      "text/plain": [
       "3"
      ]
     },
     "execution_count": 4,
     "metadata": {},
     "output_type": "execute_result"
    }
   ],
   "source": [
    "my_qubits.n()"
   ]
  },
  {
   "cell_type": "markdown",
   "id": "a806fec0",
   "metadata": {},
   "source": [
    "One can also apply any Clifford unitaries to the state:\n",
    "* `apply_h(state, pos)` applies a Hadamard to the qubit at position `pos`\n",
    "* `apply_cx(state, pos0, pos1)` applies a CNOT with the qubit at position `pos0` as control and the qubit at position `pos1` as target\n",
    "* `apply_s(state, pos)` applies an S gate to the qubit at position `pos`\n",
    "* `apply_swap(state, pos0, pos1)` applies a SWAP gate with the qubit at position `pos0` and the qubit at position `pos1`\n",
    "* `apply_x(state, pos)` applies an X gate to the qubit at position `pos`\n",
    "* `apply_z(state, pos)` applies a Z gate to the qubit at position `pos`\n"
   ]
  },
  {
   "cell_type": "code",
   "execution_count": null,
   "id": "db72b317",
   "metadata": {},
   "outputs": [
    {
     "data": {
      "text/latex": [
       "$\\displaystyle \\frac{1}{\\sqrt{2}}\\left(|000\\rangle+i|111\\rangle\\right)$"
      ],
      "text/plain": [
       "<IPython.core.display.Math object>"
      ]
     },
     "execution_count": 5,
     "metadata": {},
     "output_type": "execute_result"
    }
   ],
   "source": [
    "Q.apply_h(my_qubits, 0)     # applies a Hadamard to the first qubit\n",
    "Q.apply_cx(my_qubits, 0, 1) # applies a CNOT with the first qubit as control and the second as target\n",
    "Q.apply_cx(my_qubits, 1, 2) # applies a CNOT with the second qubit as control and the third as target\n",
    "Q.apply_s(my_qubits, 0)     # applies an S gate to the first qubit\n",
    "Q.to_latex(my_qubits)"
   ]
  },
  {
   "cell_type": "markdown",
   "id": "771dea8c",
   "metadata": {},
   "source": [
    "Checking equality of states is as simple as:"
   ]
  },
  {
   "cell_type": "code",
   "execution_count": null,
   "id": "80276187",
   "metadata": {},
   "outputs": [
    {
     "data": {
      "text/plain": [
       "[True, False]"
      ]
     },
     "execution_count": 6,
     "metadata": {},
     "output_type": "execute_result"
    }
   ],
   "source": [
    "state0 = Q.State(2)\n",
    "Q.apply_h(state0, 0)\n",
    "Q.apply_cx(state0, 0, 1)\n",
    "\n",
    "\n",
    "state1 = Q.State(2)\n",
    "Q.apply_h(state1, 1)\n",
    "Q.apply_cx(state1, 1, 0)\n",
    "\n",
    "[state0 == state1, state0 == my_qubits]"
   ]
  },
  {
   "cell_type": "markdown",
   "id": "259c180e",
   "metadata": {},
   "source": [
    "Part of the innovation of Qubos is that one can also append qubits and postselect on them while still accurately keeping track of the global phase. For example, the following code starts with a scalar state, appends a qubit, applies a Hadamard and then postselects on the first qubit being in the state $|0\\rangle$ - i.e. it computes the operation $\\langle 0 | H | 0 \\rangle$."
   ]
  },
  {
   "cell_type": "code",
   "execution_count": null,
   "id": "d40bbdfa",
   "metadata": {},
   "outputs": [
    {
     "data": {
      "text/latex": [
       "$\\displaystyle \\frac{1}{\\sqrt{2}}$"
      ],
      "text/plain": [
       "<IPython.core.display.Math object>"
      ]
     },
     "execution_count": 7,
     "metadata": {},
     "output_type": "execute_result"
    }
   ],
   "source": [
    "my_qubits = Q.State()\n",
    "my_qubits.zero_prep()\n",
    "Q.apply_h(my_qubits, 0)\n",
    "my_qubits.zero_postselect(0) # postselects on the first qubit (on position 0) being in the state $|0\\rangle$\n",
    "\n",
    "Q.to_latex(my_qubits)"
   ]
  },
  {
   "cell_type": "markdown",
   "id": "20fd1edd",
   "metadata": {},
   "source": [
    "One can insert new qubits or postselect at arbitrary positions:"
   ]
  },
  {
   "cell_type": "code",
   "execution_count": null,
   "id": "9aa5b732",
   "metadata": {},
   "outputs": [
    {
     "data": {
      "text/latex": [
       "$\\displaystyle |111\\rangle$"
      ],
      "text/plain": [
       "<IPython.core.display.Math object>"
      ]
     },
     "metadata": {},
     "output_type": "display_data"
    },
    {
     "data": {
      "text/latex": [
       "$\\displaystyle |1011\\rangle$"
      ],
      "text/plain": [
       "<IPython.core.display.Math object>"
      ]
     },
     "metadata": {},
     "output_type": "display_data"
    },
    {
     "data": {
      "text/latex": [
       "$\\displaystyle |111\\rangle$"
      ],
      "text/plain": [
       "<IPython.core.display.Math object>"
      ]
     },
     "metadata": {},
     "output_type": "display_data"
    },
    {
     "data": {
      "text/latex": [
       "$\\displaystyle 0$"
      ],
      "text/plain": [
       "<IPython.core.display.Math object>"
      ]
     },
     "metadata": {},
     "output_type": "display_data"
    }
   ],
   "source": [
    "my_qubits = Q.State()\n",
    "for i in range(3):\n",
    "    my_qubits.zero_prep(0)\n",
    "    Q.apply_x(my_qubits, 0)\n",
    "\n",
    "display(Q.to_latex(my_qubits)) # |111>\n",
    "\n",
    "my_qubits.zero_prep(1)\n",
    "display(Q.to_latex(my_qubits)) # |1011>\n",
    "\n",
    "my_qubits.zero_postselect(1)\n",
    "display(Q.to_latex(my_qubits)) # |111>\n",
    "\n",
    "my_qubits.zero_postselect(1)\n",
    "display(Q.to_latex(my_qubits)) # 0"
   ]
  },
  {
   "cell_type": "markdown",
   "id": "c0096c4f",
   "metadata": {},
   "source": [
    "## The Insides of a State\n",
    "\n",
    "Any non-zero stabilizer state $| \\psi \\rangle$ has the property that it can be written as follows:\n",
    "\n",
    "$$\n",
    "| \\psi \\rangle = e^\\frac{2 p i \\pi}{8} \\frac{1}{\\sqrt{2^m}} \\sum_{A \\vec{x} = \\vec{b}} i^{\\vec{x} \\cdot \\ell + \\vec{x}^\\intercal Q \\vec{x} } | x \\rangle\n",
    "$$\n",
    "\n",
    "where:\n",
    "* $A$ and $b$ are a boolean matrix and a vector of integers of size $n \\times m$ and $n$ respectively, defining a system of linear equations $A \\vec{x} = \\vec{b}$\n",
    "* $\\ell$ is a vector of integers of size $m$\n",
    "* $Q$ is a boolean matrix of size $m \\times m$\n",
    "* $p$ is an integer in the interval $\\{0, \\dots, 7\\}$\n",
    "* $m$ is an integer\n",
    "\n",
    "All of these correspond to the following methods of the `State` class:\n",
    "* `.is_zero()` returns a boolean corresponding to whether the state is the zero state $ $\n",
    "* `.magnitude()` corresponds to $m$\n",
    "* `.phase()` corresponds to $p$\n",
    "* `.affine_part()` returns a tuple with the numpy matrices corresponding to $A$ and $b$\n",
    "* `.phase_polynomial_matrix()` returns a numpy matrix corresponding to $Q$\n",
    "* `.lin_part()` returns a numpy vector corresponding to $\\ell$\n"
   ]
  },
  {
   "cell_type": "markdown",
   "id": "e0396572",
   "metadata": {},
   "source": [
    "## Working with Maps"
   ]
  },
  {
   "cell_type": "markdown",
   "id": "52127a4f",
   "metadata": {},
   "source": [
    "Let's start with a few simple examples! There are a couple of pre-defined maps:"
   ]
  },
  {
   "cell_type": "code",
   "execution_count": null,
   "id": "febe01c5",
   "metadata": {},
   "outputs": [],
   "source": [
    "x = Q.x_map() # Pauli X\n",
    "z = Q.z_map() # Pauli Z\n",
    "y = Q.y_map() # Pauli Y\n",
    "i = Q.i_map() # i scalar\n",
    "j = Q.j_map() # j scalar (8th root of unity)\n",
    "h = Q.h_map() # Hadamard gate\n",
    "s = Q.s_map() # S gate\n",
    "cx = Q.cx_map() # CNOT\n",
    "cz = Q.cz_map() # CZ\n",
    "swap = Q.swap_map() # SWAP\n",
    "zero_post = Q.zero_post() # Projector on the zero state\n",
    "zero_prep = Q.zero_prep() # Prepares the zero state"
   ]
  },
  {
   "cell_type": "markdown",
   "id": "49176c07",
   "metadata": {},
   "source": [
    "We can compose maps using the `*` operator or the `compose` function. We can also tensor maps using the 'tensor' function and check for equality using the `==` operator:"
   ]
  },
  {
   "cell_type": "code",
   "execution_count": null,
   "id": "21d3ffce",
   "metadata": {},
   "outputs": [
    {
     "data": {
      "text/plain": [
       "True"
      ]
     },
     "execution_count": 10,
     "metadata": {},
     "output_type": "execute_result"
    }
   ],
   "source": [
    "swap * Q.tensor(x, z) * swap == Q.tensor(z, x)"
   ]
  },
  {
   "cell_type": "markdown",
   "id": "27ccbe84",
   "metadata": {},
   "source": [
    "While the size of a state is just a single number (`.n()`), the size of a map consists of two numbers: the number of input wires and the number of output wires (`.in_wires()` and `.out_wires()`). For example, the Paulis have 1 input wire and 1 output wire, whereas the scalar map j has 0 input wires and 1 output wire. These numbers, of course, do not have to be the same, the `zero_prep` map has 0 input wires and 1 output wire and the `zero_post` map has 1 input wire and 0 output wires:"
   ]
  },
  {
   "cell_type": "code",
   "execution_count": null,
   "id": "3741e9f3",
   "metadata": {},
   "outputs": [
    {
     "name": "stdout",
     "output_type": "stream",
     "text": [
      "X 1 1\n",
      "j 0 0\n",
      "zero_prep 0 1\n",
      "zero_post 1 0\n"
     ]
    }
   ],
   "source": [
    "print('X', x.in_wires(), x.out_wires())\n",
    "print('j', j.in_wires(), j.out_wires())\n",
    "print('zero_prep', zero_prep.in_wires(), zero_prep.out_wires())\n",
    "print('zero_post', zero_post.in_wires(), zero_post.out_wires())"
   ]
  },
  {
   "cell_type": "markdown",
   "id": "d5a8bda8",
   "metadata": {},
   "source": [
    "Of course, two maps `A` and `B` can only be composed if `A.out_wires() == B.in_wires()`.\n",
    "\n",
    "While the maps listed above suffice to describe any Clifford map via tensoring and composition, it is sometimes more convenient to use the methods of the `Map` class. The following map is a projector onto the $+1$ eigenspace of the $ZZ$ operator:"
   ]
  },
  {
   "cell_type": "code",
   "execution_count": null,
   "id": "274af546",
   "metadata": {},
   "outputs": [],
   "source": [
    "zz_filter = (\n",
    "    Q.id_map(2) # identity map on 2 qubits\n",
    "    .prep_zero(2) # prepares the zero state on the new 3 qubit\n",
    "    .cx(0, 2) # CNOT with the first qubit as control and the third as target\n",
    "    .cx(1, 2) # CNOT with the second qubit as control and the third as target\n",
    "    .post_zero(2) # postselects on the third qubit being in the state $|0\\rangle$\n",
    ")"
   ]
  },
  {
   "cell_type": "markdown",
   "id": "5f27949b",
   "metadata": {},
   "source": [
    "A comprehensive list of `Map` methods is given below:\n",
    "* `.s(pos)` applies an S gate to the qubit at position `pos`\n",
    "* `.h(pos)` applies a Hadamard gate to the qubit at position `pos`\n",
    "* `.x(pos)` applies an X gate to the qubit at position `pos`\n",
    "* `.z(pos)` applies a Z gate to the qubit at position `pos`\n",
    "* `.cx(pos0, pos1)` applies a CNOT with the qubit at position `pos0` as control and the qubit at position `pos1` as target\n",
    "* `.cz(pos0, pos1)` applies a CZ with the qubit at position `pos0` as control and the qubit at position `pos1` as target\n",
    "* `.swap(pos0, pos1)` applies a SWAP with the qubit at position `pos0` and the qubit at position `pos1`\n",
    "* `.prep_zero()` appends a qubit in the state $|0\\rangle$ to the output wires\n",
    "* `.prep_zero(pos)` moves all qubits starting from position `pos` one position to the right and appends a qubit in the state $|0\\rangle$ at position `pos`\n",
    "* `.post_zero(pos)` moves all qubits starting from position `pos` one position to the left and removes the qubit that was at position `pos`\n",
    "\n",
    "all of these methods apply the corresponding operation to the output wires of the map. Analagous methods exist for the `State` class."
   ]
  },
  {
   "cell_type": "markdown",
   "id": "b8a1caa8",
   "metadata": {},
   "source": [
    "## Working with Maps and States\n"
   ]
  },
  {
   "cell_type": "markdown",
   "id": "0112ac2f",
   "metadata": {},
   "source": [
    "Maps and States are closely related. One can, for example, apply a map to a state using `apply_map`; in the following example, we apply the $ZZ$ filter from the previous section to the uniform superposition over the computational basis states of 2 qubits:"
   ]
  },
  {
   "cell_type": "code",
   "execution_count": null,
   "id": "cc8ab16b",
   "metadata": {},
   "outputs": [
    {
     "data": {
      "text/latex": [
       "$\\displaystyle \\frac{1}{\\sqrt{2^{2}}}\\left(|00\\rangle+|11\\rangle\\right)$"
      ],
      "text/plain": [
       "<IPython.core.display.Math object>"
      ]
     },
     "metadata": {},
     "output_type": "display_data"
    }
   ],
   "source": [
    "my_qubits = Q.State(2)\n",
    "Q.apply_h(my_qubits, 0)\n",
    "Q.apply_h(my_qubits, 1)\n",
    "\n",
    "filtered_state = Q.apply_map(zz_filter, my_qubits)\n",
    "display(Q.to_latex(filtered_state))"
   ]
  },
  {
   "cell_type": "markdown",
   "id": "5ad5d1c2",
   "metadata": {},
   "source": [
    "Any state can be converted to a map using the `to_map` function. This produces a state preparation map, which has no input and the state's size output wires:"
   ]
  },
  {
   "cell_type": "code",
   "execution_count": null,
   "id": "f922c42d",
   "metadata": {},
   "outputs": [
    {
     "name": "stdout",
     "output_type": "stream",
     "text": [
      "0 2\n"
     ]
    }
   ],
   "source": [
    "prep_qubits = Q.to_map(my_qubits)\n",
    "print(prep_qubits.in_wires(), prep_qubits.out_wires())"
   ]
  },
  {
   "cell_type": "markdown",
   "id": "2a8c7e90",
   "metadata": {},
   "source": [
    "One can also retrieve the [Choi State](https://en.wikipedia.org/wiki/Choi%E2%80%93Jamio%C5%82kowski_isomorphism) of a map using the `choi_state` function. Here's the Choi state of the Pauli $X$ gate:"
   ]
  },
  {
   "cell_type": "code",
   "execution_count": null,
   "id": "dcfa4518",
   "metadata": {},
   "outputs": [
    {
     "data": {
      "text/latex": [
       "$\\displaystyle |10\\rangle+|01\\rangle$"
      ],
      "text/plain": [
       "<IPython.core.display.Math object>"
      ]
     },
     "metadata": {},
     "output_type": "display_data"
    }
   ],
   "source": [
    "x_choi = Q.choi_state(x)\n",
    "display(Q.to_latex(x_choi))"
   ]
  },
  {
   "cell_type": "markdown",
   "id": "c6a48b93",
   "metadata": {},
   "source": [
    "\\* Note that for a Clifford map $F$ with $n$ input wires and $m$ output wires, the Choi state has $n + m$ qubits and is of the form:\n",
    "$$\n",
    "\\sum_{x \\in \\{0, 1\\}^n} |x \\rangle \\otimes F |x \\rangle\n",
    "$$"
   ]
  },
  {
   "cell_type": "markdown",
   "id": "1c86e50e",
   "metadata": {},
   "source": [
    "## Last Quirks"
   ]
  },
  {
   "cell_type": "markdown",
   "id": "6ddb9c72",
   "metadata": {},
   "source": [
    "Both `Map` and `State` are passed by reference, so you can be screwed by something like this:"
   ]
  },
  {
   "cell_type": "code",
   "execution_count": null,
   "id": "df578015",
   "metadata": {},
   "outputs": [
    {
     "data": {
      "text/latex": [
       "$\\displaystyle |0\\rangle$"
      ],
      "text/plain": [
       "<IPython.core.display.Math object>"
      ]
     },
     "metadata": {},
     "output_type": "display_data"
    },
    {
     "data": {
      "text/latex": [
       "$\\displaystyle |1\\rangle$"
      ],
      "text/plain": [
       "<IPython.core.display.Math object>"
      ]
     },
     "metadata": {},
     "output_type": "display_data"
    }
   ],
   "source": [
    "a = Q.State(1)\n",
    "b = a\n",
    "display(Q.to_latex(b))\n",
    "Q.apply_x(a, 0)\n",
    "display(Q.to_latex(b))"
   ]
  },
  {
   "cell_type": "markdown",
   "id": "8904b4d1",
   "metadata": {},
   "source": [
    "To avoid embarrassment, use the `.clone()` method (available for both `Map` and `State`):"
   ]
  },
  {
   "cell_type": "code",
   "execution_count": null,
   "id": "8abc329f",
   "metadata": {},
   "outputs": [
    {
     "data": {
      "text/latex": [
       "$\\displaystyle |0\\rangle$"
      ],
      "text/plain": [
       "<IPython.core.display.Math object>"
      ]
     },
     "metadata": {},
     "output_type": "display_data"
    },
    {
     "data": {
      "text/latex": [
       "$\\displaystyle |0\\rangle$"
      ],
      "text/plain": [
       "<IPython.core.display.Math object>"
      ]
     },
     "metadata": {},
     "output_type": "display_data"
    }
   ],
   "source": [
    "a = Q.State(1)\n",
    "b = a.clone()\n",
    "display(Q.to_latex(b))\n",
    "Q.apply_x(a, 0)\n",
    "display(Q.to_latex(b))"
   ]
  }
 ],
 "metadata": {
  "kernelspec": {
   "display_name": ".venv",
   "language": "python",
   "name": "python3"
  },
  "language_info": {
   "codemirror_mode": {
    "name": "ipython",
    "version": 3
   },
   "file_extension": ".py",
   "mimetype": "text/x-python",
   "name": "python",
   "nbconvert_exporter": "python",
   "pygments_lexer": "ipython3",
   "version": "3.13.3"
  }
 },
 "nbformat": 4,
 "nbformat_minor": 5
}
